{
 "cells": [
  {
   "cell_type": "code",
   "execution_count": null,
   "metadata": {
    "collapsed": false
   },
   "outputs": [],
   "source": [
    "from pybrayns import *"
   ]
  },
  {
   "cell_type": "code",
   "execution_count": null,
   "metadata": {
    "collapsed": false
   },
   "outputs": [],
   "source": [
    "# Initialize PyBrayns with brayns url\n",
    "brayns = PyBrayns('http://localhost:5000')"
   ]
  },
  {
   "cell_type": "code",
   "execution_count": null,
   "metadata": {
    "collapsed": true
   },
   "outputs": [],
   "source": [
    "# Activate no shading shader\n",
    "brayns.set_shader(SHADER_DIFFUSE)"
   ]
  },
  {
   "cell_type": "code",
   "execution_count": null,
   "metadata": {
    "collapsed": true
   },
   "outputs": [],
   "source": [
    "# set ambient occlusion strength\n",
    "brayns.set_ambient_occlusion(1)"
   ]
  },
  {
   "cell_type": "code",
   "execution_count": null,
   "metadata": {
    "collapsed": true
   },
   "outputs": [],
   "source": [
    "# Activate shadows and make them soft\n",
    "brayns.set_shadows(False)\n",
    "brayns.set_soft_shadows(True)"
   ]
  },
  {
   "cell_type": "code",
   "execution_count": null,
   "metadata": {
    "collapsed": true
   },
   "outputs": [],
   "source": [
    "# Define and set camera defined by origin, look-at,\n",
    "# up vector, aperture and focal length\n",
    "fov_camera = Camera()\n",
    "fov_camera.set_origin(0,0,-3)\n",
    "fov_camera.set_look_at(0,0,0)\n",
    "brayns.set_fov_camera(fov_camera)"
   ]
  },
  {
   "cell_type": "code",
   "execution_count": null,
   "metadata": {
    "collapsed": true
   },
   "outputs": [],
   "source": [
    "# Set material 0 to white\n",
    "material = Material()\n",
    "material.set_diffuse_color(1,1,1)\n",
    "material.set_specular_color(1,1,1)\n",
    "material.set_specular_exponent(100)\n",
    "material.set_opacity(0.2)\n",
    "material.set_reflection_index(0.5)\n",
    "material.set_refraction_index(1.4)\n",
    "brayns.set_material(7, material)"
   ]
  },
  {
   "cell_type": "code",
   "execution_count": null,
   "metadata": {
    "collapsed": false
   },
   "outputs": [],
   "source": [
    "# Activate default renderer\n",
    "brayns.set_renderer(RENDERER_DEFAULT)"
   ]
  },
  {
   "cell_type": "code",
   "execution_count": null,
   "metadata": {
    "collapsed": true
   },
   "outputs": [],
   "source": [
    "# Set background color\n",
    "brayns.set_background_color(0.1, 0.1, 0.1)"
   ]
  },
  {
   "cell_type": "code",
   "execution_count": null,
   "metadata": {
    "collapsed": true
   },
   "outputs": [],
   "source": [
    "# set source image size\n",
    "brayns.set_window_size(512, 512)"
   ]
  },
  {
   "cell_type": "code",
   "execution_count": null,
   "metadata": {
    "collapsed": true
   },
   "outputs": [],
   "source": [
    "# Set number of samples per pixel\n",
    "brayns.set_samples_per_pixel(1)"
   ]
  },
  {
   "cell_type": "code",
   "execution_count": null,
   "metadata": {
    "collapsed": false
   },
   "outputs": [],
   "source": [
    "# Set scene timestamp\n",
    "brayns.set_timestamp(100)"
   ]
  },
  {
   "cell_type": "code",
   "execution_count": null,
   "metadata": {
    "collapsed": true
   },
   "outputs": [],
   "source": [
    "# Define transfer function for electrical simulation\n",
    "transfer_function = TransferFunction()\n",
    "\n",
    "# Define control points for all attributes (R,G,B,A)\n",
    "red_control_points = [\n",
    "    [ -92.0915, 0.1 ], [-61.0, 0.1 ],\n",
    "    [-50.0, 0.8 ], [0.0, 0.0], [49.5497, 1]]\n",
    "transfer_function.set_control_points(\n",
    "    ATTRIBUTE_RED, red_control_points)\n",
    "\n",
    "green_control_points = [\n",
    "    [ -92.0915, 0.1 ], [-55.0, 0.1 ],\n",
    "    [-50.0, 0.5 ], [49.5497, 1]]\n",
    "transfer_function.set_control_points(\n",
    "    ATTRIBUTE_GREEN, green_control_points)\n",
    "\n",
    "blue_control_points = [\n",
    "    [ -92.0915, 0.1 ], [-50.0, 0.1 ],\n",
    "    [-58.0, 0.0 ], [0.0, 0.1]]\n",
    "transfer_function.set_control_points(\n",
    "    ATTRIBUTE_BLUE, blue_control_points)\n",
    "\n",
    "alpha_control_points = [\n",
    "    [ -92.0915, 1.0 ], [49.5497, 1]]\n",
    "transfer_function.set_control_points(\n",
    "    ATTRIBUTE_ALPHA, alpha_control_points)\n",
    "\n",
    "# Set transfer function\n",
    "brayns.set_transfer_function(transfer_function)"
   ]
  },
  {
   "cell_type": "code",
   "execution_count": null,
   "metadata": {
    "collapsed": true
   },
   "outputs": [],
   "source": [
    "# Get JPEG image back and save it to example.jpg\n",
    "brayns.set_image_jpeg_size(512, 512)\n",
    "brayns.set_image_jpeg_quality(100)\n",
    "image = brayns.get_image_jpeg()\n",
    "if image is not None:\n",
    "    image.show()"
   ]
  },
  {
   "cell_type": "code",
   "execution_count": null,
   "metadata": {
    "collapsed": true
   },
   "outputs": [],
   "source": [
    "# Get color frame buffer\n",
    "image = brayns.get_frame_buffer(FRAMEBUFFER_COLOR)\n",
    "if image is not None:\n",
    "    image.show()"
   ]
  },
  {
   "cell_type": "code",
   "execution_count": null,
   "metadata": {
    "collapsed": true
   },
   "outputs": [],
   "source": [
    "# Get depth frame buffer\n",
    "image = brayns.get_frame_buffer(FRAMEBUFFER_DEPTH)\n",
    "if image is not None:\n",
    "    image.show()"
   ]
  }
 ],
 "metadata": {
  "kernelspec": {
   "display_name": "Python 3",
   "language": "python",
   "name": "python3"
  },
  "language_info": {
   "codemirror_mode": {
    "name": "ipython",
    "version": 3
   },
   "file_extension": ".py",
   "mimetype": "text/x-python",
   "name": "python",
   "nbconvert_exporter": "python",
   "pygments_lexer": "ipython3",
   "version": "3.4.3"
  }
 },
 "nbformat": 4,
 "nbformat_minor": 1
}
